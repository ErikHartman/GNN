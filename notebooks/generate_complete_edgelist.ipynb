{
 "cells": [
  {
   "cell_type": "code",
   "execution_count": 1,
   "metadata": {},
   "outputs": [],
   "source": [
    "import networkx as nx\n",
    "import pandas as pd"
   ]
  },
  {
   "cell_type": "code",
   "execution_count": 42,
   "metadata": {},
   "outputs": [],
   "source": [
    "uniprot2reactome = pd.read_csv('../data/UniProt2Reactome.txt', sep=\"\\t\", names =['input','translation','x','y','z','o'])\n",
    "uniprot2reactome = uniprot2reactome[uniprot2reactome['o'] == 'Homo sapiens']\n",
    "uniprot2reactome = uniprot2reactome[['input','translation']]\n",
    "\n",
    "qm = pd.read_csv('../data/newQM_NONA.csv')\n",
    "proteins = qm['Protein'].values.tolist()\n",
    "uniprot2reactome = uniprot2reactome[uniprot2reactome['input'].isin(proteins)]\n",
    "uniprot2reactome.rename(columns={'input':'child', 'translation':'parent'}, inplace=True)\n",
    "qm.fillna(0, inplace=True)"
   ]
  },
  {
   "cell_type": "code",
   "execution_count": 76,
   "metadata": {},
   "outputs": [],
   "source": [
    "reactome_names = pd.read_csv('../data/ReactomePathways.txt', sep =\"\\t\", names = ['accession','trivname','y'])[['trivname','accession']]\n",
    "uniprot_names = pd.read_csv('../data/human_proteome.gz')[['trivname', 'accession']]\n",
    "def translate(input_data):\n",
    "    translate_dict = pd.concat([reactome_names, uniprot_names]).set_index('accession').to_dict()['trivname']\n",
    "    output_data=input_data.map(translate_dict)\n",
    "    return output_data\n",
    "\n"
   ]
  },
  {
   "cell_type": "code",
   "execution_count": 86,
   "metadata": {},
   "outputs": [],
   "source": [
    "    \n",
    "\n",
    "def subset_df(sample, qm, uniprot2reactome, reactome_pathways):\n",
    "    qm_sample = qm[['Protein',sample]]\n",
    "    qm_sample= qm_sample[qm_sample[sample]> 0]\n",
    "    \n",
    "    path_df = uniprot2reactome.merge(qm_sample, left_on='child', right_on='Protein', how='right')\n",
    "    path_df.dropna(subset=['child'], inplace=True)\n",
    "    starting_pathways = path_df['parent']\n",
    "    add_df = reactome_pathways[reactome_pathways['child'].isin(starting_pathways)]\n",
    "    path_df = pd.concat([path_df, add_df])\n",
    "    new_pathways = add_df['child']\n",
    "    i = 0\n",
    "    while len(new_pathways) > 0:\n",
    "        i+=1\n",
    "        add_df = reactome_pathways[reactome_pathways['child'].isin(new_pathways)]\n",
    "        path_df = pd.concat([path_df, add_df])\n",
    "        new_pathways = add_df['parent']\n",
    "    path_df['child'] = translate(path_df['child'])\n",
    "    path_df['parent'] = translate(path_df['parent'])\n",
    "    path_df = path_df[path_df['child'] != 0]\n",
    "    return path_df[['child','parent', sample]].rename(columns={sample:'abundance'}).fillna(0)\n",
    "\n",
    "    \n",
    "\n",
    "    \n",
    "reactome_pathways = pd.read_csv('../data/sepsis_HSA_All_ms_path.csv')\n",
    "samples = [col for col in qm if col.startswith('TM')]\n",
    "for sample in samples:\n",
    "    subset_df(sample, qm, uniprot2reactome, reactome_pathways).to_csv(f'../data/graphs/{sample}.csv', index=False)"
   ]
  },
  {
   "cell_type": "code",
   "execution_count": 3,
   "metadata": {},
   "outputs": [],
   "source": [
    "\n",
    "df = pd.read_csv('../data/sepsis_HSA_All_ms_path.csv')\n",
    "df = pd.concat([df, uniprot2reactome])\n",
    "parent = translate(df['parent'])\n",
    "child = translate(df['child'])\n",
    "df = pd.DataFrame({'parent':parent, 'child':child})\n",
    "df.to_csv('../data/processed/sepsis_edgelist.csv', index=False)"
   ]
  },
  {
   "cell_type": "code",
   "execution_count": 4,
   "metadata": {},
   "outputs": [],
   "source": [
    "samples = [col for col in qm if col.startswith('TM')]\n",
    "qm = qm [['Protein'] + samples]\n",
    "qm['Protein'] = translate(qm['Protein'])"
   ]
  },
  {
   "cell_type": "code",
   "execution_count": 14,
   "metadata": {},
   "outputs": [
    {
     "name": "stdout",
     "output_type": "stream",
     "text": [
      "       parent                                              child  \\\n",
      "0   Apoptosis                    Intrinsic Pathway for Apoptosis   \n",
      "1   Apoptosis                            Regulation of Apoptosis   \n",
      "2   Apoptosis  Caspase activation via extrinsic apoptotic sig...   \n",
      "3   Apoptosis                          Apoptotic execution phase   \n",
      "4  Hemostasis        Formation of Fibrin Clot (Clotting Cascade)   \n",
      "\n",
      "   TM_M2012_010  TM_M2012_011  TM_M2012_012  TM_M2012_013  TM_M2012_014  \\\n",
      "0           NaN           NaN           NaN           NaN           NaN   \n",
      "1           NaN           NaN           NaN           NaN           NaN   \n",
      "2           NaN           NaN           NaN           NaN           NaN   \n",
      "3           NaN           NaN           NaN           NaN           NaN   \n",
      "4           NaN           NaN           NaN           NaN           NaN   \n",
      "\n",
      "   TM_M2012_016  TM_M2012_017  TM_M2012_018  ...  TM_M2012_190  TM_M2012_191  \\\n",
      "0           NaN           NaN           NaN  ...           NaN           NaN   \n",
      "1           NaN           NaN           NaN  ...           NaN           NaN   \n",
      "2           NaN           NaN           NaN  ...           NaN           NaN   \n",
      "3           NaN           NaN           NaN  ...           NaN           NaN   \n",
      "4           NaN           NaN           NaN  ...           NaN           NaN   \n",
      "\n",
      "   TM_M2012_192  TM_M2012_196  TM_M2012_197  TM_M2012_198  TM_M2012_199  \\\n",
      "0           NaN           NaN           NaN           NaN           NaN   \n",
      "1           NaN           NaN           NaN           NaN           NaN   \n",
      "2           NaN           NaN           NaN           NaN           NaN   \n",
      "3           NaN           NaN           NaN           NaN           NaN   \n",
      "4           NaN           NaN           NaN           NaN           NaN   \n",
      "\n",
      "   TM_M2012_200  TM_M2012_202  TM_M2012_203  \n",
      "0           NaN           NaN           NaN  \n",
      "1           NaN           NaN           NaN  \n",
      "2           NaN           NaN           NaN  \n",
      "3           NaN           NaN           NaN  \n",
      "4           NaN           NaN           NaN  \n",
      "\n",
      "[5 rows x 143 columns]\n"
     ]
    }
   ],
   "source": [
    "merged = df.merge(qm, left_on='child', right_on='Protein', how='left')\n",
    "merged = merged[['parent', 'child'] + samples]\n",
    "print(merged.head())\n",
    "merged.to_csv('../data/processed/sepsis_edgelist_w_values.csv', index=False)"
   ]
  },
  {
   "cell_type": "code",
   "execution_count": 81,
   "metadata": {},
   "outputs": [],
   "source": [
    "G = nx.from_pandas_edgelist(df = df, source='parent', target='child', create_using = nx.DiGraph)"
   ]
  }
 ],
 "metadata": {
  "kernelspec": {
   "display_name": "gnn-venv",
   "language": "python",
   "name": "python3"
  },
  "language_info": {
   "codemirror_mode": {
    "name": "ipython",
    "version": 3
   },
   "file_extension": ".py",
   "mimetype": "text/x-python",
   "name": "python",
   "nbconvert_exporter": "python",
   "pygments_lexer": "ipython3",
   "version": "3.9.13"
  },
  "orig_nbformat": 4,
  "vscode": {
   "interpreter": {
    "hash": "be1761451b42faef433011dd807e5a20c9882736cccedab0d2719fa08ffabbe4"
   }
  }
 },
 "nbformat": 4,
 "nbformat_minor": 2
}
