{
 "cells": [
  {
   "cell_type": "code",
   "execution_count": 1,
   "metadata": {},
   "outputs": [
    {
     "name": "stderr",
     "output_type": "stream",
     "text": [
      "/home/erikh/GNN_test/gnn-venv/lib/python3.9/site-packages/tqdm/auto.py:22: TqdmWarning: IProgress not found. Please update jupyter and ipywidgets. See https://ipywidgets.readthedocs.io/en/stable/user_install.html\n",
      "  from .autonotebook import tqdm as notebook_tqdm\n"
     ]
    }
   ],
   "source": [
    "import networkx as nx\n",
    "import numpy as np\n",
    "import pandas as pd\n",
    "import torch\n",
    "from sklearn.preprocessing import StandardScaler"
   ]
  },
  {
   "cell_type": "code",
   "execution_count": 2,
   "metadata": {},
   "outputs": [],
   "source": [
    "design = pd.read_csv('../data/design_matrix_group_de.tsv', sep=\"\\t\")\n",
    "samples = design['sample'].tolist()\n",
    "y = np.array(design['group'])-1"
   ]
  },
  {
   "cell_type": "code",
   "execution_count": 3,
   "metadata": {},
   "outputs": [],
   "source": [
    "edgelist = pd.read_csv('../data/processed/sepsis_edgelist_w_values.csv')\n",
    "edgelist.fillna(0, inplace=True)\n",
    "edgelist = edgelist[['parent','child'] + samples]\n",
    "edgelist.set_index(['parent','child'], inplace=True)\n",
    "\n",
    "scaled_features = StandardScaler().fit_transform(edgelist.values)\n",
    "edgelist = pd.DataFrame(scaled_features, index=edgelist.index, columns=edgelist.columns)\n",
    "edgelist.reset_index(inplace=True)"
   ]
  },
  {
   "cell_type": "code",
   "execution_count": 4,
   "metadata": {},
   "outputs": [
    {
     "name": "stdout",
     "output_type": "stream",
     "text": [
      "2219\n",
      "6960\n"
     ]
    }
   ],
   "source": [
    "all_nodes = list(set(edgelist['child'].values.tolist() + edgelist['parent'].values.tolist()))\n",
    "all_nodes.remove(0)\n",
    "G = nx.DiGraph()\n",
    "for node in all_nodes:\n",
    "    if node in edgelist['child']:\n",
    "        node_weights = edgelist[edgelist['child'] == node][samples]\n",
    "    else:\n",
    "        node_weights = [0]*len(samples)\n",
    "    G.add_node(node, weight = node_weights)\n",
    "\n",
    "for row in edgelist.iterrows():\n",
    "    row = row[1]\n",
    "    source = row['child']\n",
    "    target = row['parent']\n",
    "    if source in G.nodes():\n",
    "        G.add_edge(source, target)\n",
    "    \n",
    "print(G.number_of_nodes())\n",
    "print(G.number_of_edges())"
   ]
  },
  {
   "cell_type": "code",
   "execution_count": 5,
   "metadata": {},
   "outputs": [],
   "source": [
    "pd_adj = nx.to_pandas_adjacency(G)\n",
    "adj= pd_adj.values\n",
    "edge_index = (adj > 0).nonzero()\n",
    "row, col = edge_index\n",
    "coo = np.array(list(zip(row,col))).T\n"
   ]
  },
  {
   "cell_type": "code",
   "execution_count": 6,
   "metadata": {},
   "outputs": [
    {
     "name": "stdout",
     "output_type": "stream",
     "text": [
      "Number of nodes: 2219\n",
      "Number of edges: 6960\n",
      "Average node degree: 3.14\n",
      "Has isolated nodes: False\n",
      "Has self-loops: False\n",
      "Is undirected: False\n"
     ]
    }
   ],
   "source": [
    "from torch_geometric.data import Data\n",
    "from torch_geometric.loader import DataLoader\n",
    "\n",
    "\n",
    "data_list = []\n",
    "for i in range(len(samples)):\n",
    "    sample = samples[i]\n",
    "    x = []\n",
    "    for node in G.nodes():\n",
    "        x.append([G.nodes()[node]['weight'][i]])\n",
    "    data_i = Data(x=torch.tensor(x, dtype=torch.float), edge_index=torch.tensor(coo, dtype=torch.long), y=torch.tensor(y[i], dtype=torch.long))\n",
    "    data_list.append(data_i)\n",
    "    \n",
    "dataloader = DataLoader(data_list, shuffle=True, batch_size=16, drop_last=True)\n",
    "dataset = dataloader.dataset\n",
    "data = dataloader.dataset[0]\n",
    "\n",
    "print(f'Number of nodes: {data.num_nodes}')\n",
    "print(f'Number of edges: {data.num_edges}')\n",
    "print(f'Average node degree: {data.num_edges / data.num_nodes:.2f}')\n",
    "print(f'Has isolated nodes: {data.has_isolated_nodes()}')\n",
    "print(f'Has self-loops: {data.has_self_loops()}')\n",
    "print(f'Is undirected: {data.is_undirected()}')"
   ]
  },
  {
   "cell_type": "code",
   "execution_count": 7,
   "metadata": {},
   "outputs": [],
   "source": [
    "\n",
    "from torch.nn import Linear\n",
    "import torch.nn.functional as F\n",
    "from torch_geometric.nn import GCNConv\n",
    "from torch_geometric.nn import global_mean_pool\n",
    "\n",
    "class GCN(torch.nn.Module):\n",
    "    def __init__(self,  out_channels, hidden_channels):\n",
    "        super(GCN, self).__init__()\n",
    "        self.conv1 = GCNConv(-1, hidden_channels)\n",
    "        self.conv2 = GCNConv(hidden_channels, hidden_channels)\n",
    "        self.conv3 = GCNConv(hidden_channels, hidden_channels)        \n",
    "        self.conv4 = GCNConv(hidden_channels, hidden_channels)\n",
    "        self.conv5 = GCNConv(hidden_channels, hidden_channels)\n",
    "        self.lin = Linear(hidden_channels, out_channels)\n",
    "\n",
    "    def forward(self, x, edge_index, batch):\n",
    "        # 1. Obtain node embeddings \n",
    "        x = self.conv1(x, edge_index)\n",
    "        x = x.relu()\n",
    "        x = self.conv2(x, edge_index)\n",
    "        x = x.relu()\n",
    "        x = self.conv3(x, edge_index)\n",
    "        x = x.relu()\n",
    "        x = self.conv5(x, edge_index)\n",
    "        x = x.relu()\n",
    "        x = self.conv5(x, edge_index)\n",
    "        # 2. Readout layer\n",
    "        x = global_mean_pool(x, batch)  # [batch_size, hidden_channels]\n",
    "        # 3. Apply a final classifier\n",
    "        x = F.dropout(x, p=0.5, training=self.training)\n",
    "        x = self.lin(x)\n",
    "        return x\n",
    "\n",
    "\n"
   ]
  },
  {
   "cell_type": "code",
   "execution_count": 10,
   "metadata": {},
   "outputs": [],
   "source": [
    "\n",
    "model = GCN(2, 10)\n",
    "optimizer = torch.optim.Adam(model.parameters(), lr=0.01)\n",
    "criterion = torch.nn.CrossEntropyLoss()\n",
    "\n",
    "def train():\n",
    "    model.train()\n",
    "    for data in dataloader:  # Iterate in batches over the training dataset.\n",
    "        out = model.forward(data.x, data.edge_index, data.batch) \n",
    "        loss = criterion(out, data.y)  # Compute the loss.\n",
    "        loss.backward()  # Derive gradients.\n",
    "        optimizer.step()  # Update parameters based on gradients.\n",
    "        optimizer.zero_grad()  # Clear gradients.\n",
    "    return loss\n",
    "         \n",
    "def test(loader):\n",
    "     model.eval()\n",
    "     correct = 0\n",
    "     for data in loader:  # Iterate in batches over the training/test dataset.\n",
    "         out = model(data.x, data.edge_index, data.batch)  \n",
    "         pred = out.argmax(dim=1)  # Use the class with highest probability.\n",
    "         correct += int((pred == data.y).sum())  # Check against ground-truth labels.\n",
    "     return correct / len(loader.dataset)  # Derive ratio of correct predictions.\n",
    "         \n",
    "for epoch in range(1, 200):\n",
    "    loss = train()\n",
    "    acc = test(dataloader)\n",
    "    print(f'Epoch {epoch:>3} | Loss: {loss:.2f} | Acc: {acc*100:.2f}%')"
   ]
  }
 ],
 "metadata": {
  "kernelspec": {
   "display_name": "gnn-venv",
   "language": "python",
   "name": "python3"
  },
  "language_info": {
   "codemirror_mode": {
    "name": "ipython",
    "version": 3
   },
   "file_extension": ".py",
   "mimetype": "text/x-python",
   "name": "python",
   "nbconvert_exporter": "python",
   "pygments_lexer": "ipython3",
   "version": "3.9.13"
  },
  "orig_nbformat": 4,
  "vscode": {
   "interpreter": {
    "hash": "be1761451b42faef433011dd807e5a20c9882736cccedab0d2719fa08ffabbe4"
   }
  }
 },
 "nbformat": 4,
 "nbformat_minor": 2
}
